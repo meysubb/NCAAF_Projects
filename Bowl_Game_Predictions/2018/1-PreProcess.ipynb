{
 "cells": [
  {
   "cell_type": "code",
   "execution_count": 2,
   "metadata": {},
   "outputs": [],
   "source": [
    "import pandas as pd\n",
    "import numpy as np"
   ]
  },
  {
   "cell_type": "code",
   "execution_count": 3,
   "metadata": {},
   "outputs": [],
   "source": [
    "ind_games = pd.read_csv(\"data/final_data/all_games_16_18.csv\")"
   ]
  },
  {
   "cell_type": "code",
   "execution_count": 4,
   "metadata": {},
   "outputs": [],
   "source": [
    "ind_games = ind_games.drop('Team2_int_re_number',axis=1)"
   ]
  },
  {
   "cell_type": "code",
   "execution_count": 5,
   "metadata": {},
   "outputs": [],
   "source": [
    "clean_ind_games = ind_games.drop(['game_id','Team1_team_id','Team2_team_id','Team1','Team2'],axis=1)"
   ]
  },
  {
   "cell_type": "markdown",
   "metadata": {},
   "source": [
    "### Target split"
   ]
  },
  {
   "cell_type": "code",
   "execution_count": 6,
   "metadata": {},
   "outputs": [
    {
     "data": {
      "text/plain": [
       "1    0.622561\n",
       "0    0.377439\n",
       "Name: Team2_win, dtype: float64"
      ]
     },
     "execution_count": 6,
     "metadata": {},
     "output_type": "execute_result"
    }
   ],
   "source": [
    "clean_ind_games['Team2_win'].value_counts()/clean_ind_games.shape[0]"
   ]
  },
  {
   "cell_type": "markdown",
   "metadata": {},
   "source": [
    "### Re-shuffle dataframe to get equal target variables "
   ]
  },
  {
   "cell_type": "code",
   "execution_count": 7,
   "metadata": {},
   "outputs": [],
   "source": [
    "target_yes = clean_ind_games[clean_ind_games['Team2_win'] == 1]\n",
    "target_no = clean_ind_games[clean_ind_games['Team2_win']==0]"
   ]
  },
  {
   "cell_type": "code",
   "execution_count": 8,
   "metadata": {},
   "outputs": [],
   "source": [
    "sample_no = int((target_yes.shape[0] - target_no.shape[0])/2)"
   ]
  },
  {
   "cell_type": "code",
   "execution_count": 9,
   "metadata": {},
   "outputs": [],
   "source": [
    "flip_df = target_yes.sample(n=sample_no)\n",
    "remove_index = flip_df.index.tolist()"
   ]
  },
  {
   "cell_type": "code",
   "execution_count": 10,
   "metadata": {},
   "outputs": [
    {
     "data": {
      "text/html": [
       "<div>\n",
       "<style scoped>\n",
       "    .dataframe tbody tr th:only-of-type {\n",
       "        vertical-align: middle;\n",
       "    }\n",
       "\n",
       "    .dataframe tbody tr th {\n",
       "        vertical-align: top;\n",
       "    }\n",
       "\n",
       "    .dataframe thead th {\n",
       "        text-align: right;\n",
       "    }\n",
       "</style>\n",
       "<table border=\"1\" class=\"dataframe\">\n",
       "  <thead>\n",
       "    <tr style=\"text-align: right;\">\n",
       "      <th></th>\n",
       "      <th>Team1_team_score</th>\n",
       "      <th>Team2_team_score</th>\n",
       "      <th>Team1_first_downs</th>\n",
       "      <th>Team1_passing_first_downs</th>\n",
       "      <th>Team1_rushing_first_downs</th>\n",
       "      <th>Team1_rushing_yds</th>\n",
       "      <th>Team1_rushing_attempts</th>\n",
       "      <th>Team1_passing_attempts</th>\n",
       "      <th>Team1_passing_completions</th>\n",
       "      <th>Team1_passing_interceptions</th>\n",
       "      <th>...</th>\n",
       "      <th>Team2_third_down_suc</th>\n",
       "      <th>Team2_fourth_down_attempts</th>\n",
       "      <th>Team2_fourth_down_suc</th>\n",
       "      <th>Team1_third_down_conv_pct</th>\n",
       "      <th>Team2_third_down_conv_pct</th>\n",
       "      <th>Team1_fourth_down_conv_pct</th>\n",
       "      <th>Team2_fourth_down_conv_pct</th>\n",
       "      <th>Team1_turnover_margin</th>\n",
       "      <th>Team2_turnover_margin</th>\n",
       "      <th>Team2_win</th>\n",
       "    </tr>\n",
       "  </thead>\n",
       "  <tbody>\n",
       "    <tr>\n",
       "      <th>544</th>\n",
       "      <td>16</td>\n",
       "      <td>48</td>\n",
       "      <td>16</td>\n",
       "      <td>6</td>\n",
       "      <td>9</td>\n",
       "      <td>97</td>\n",
       "      <td>29</td>\n",
       "      <td>41</td>\n",
       "      <td>18</td>\n",
       "      <td>1</td>\n",
       "      <td>...</td>\n",
       "      <td>8</td>\n",
       "      <td>0</td>\n",
       "      <td>0</td>\n",
       "      <td>0.266667</td>\n",
       "      <td>0.571429</td>\n",
       "      <td>1.0</td>\n",
       "      <td>0.000000</td>\n",
       "      <td>-1</td>\n",
       "      <td>1</td>\n",
       "      <td>1</td>\n",
       "    </tr>\n",
       "    <tr>\n",
       "      <th>631</th>\n",
       "      <td>10</td>\n",
       "      <td>48</td>\n",
       "      <td>17</td>\n",
       "      <td>7</td>\n",
       "      <td>8</td>\n",
       "      <td>122</td>\n",
       "      <td>21</td>\n",
       "      <td>41</td>\n",
       "      <td>20</td>\n",
       "      <td>1</td>\n",
       "      <td>...</td>\n",
       "      <td>6</td>\n",
       "      <td>3</td>\n",
       "      <td>3</td>\n",
       "      <td>0.562500</td>\n",
       "      <td>0.500000</td>\n",
       "      <td>0.0</td>\n",
       "      <td>1.000000</td>\n",
       "      <td>1</td>\n",
       "      <td>-1</td>\n",
       "      <td>1</td>\n",
       "    </tr>\n",
       "    <tr>\n",
       "      <th>1372</th>\n",
       "      <td>17</td>\n",
       "      <td>51</td>\n",
       "      <td>24</td>\n",
       "      <td>11</td>\n",
       "      <td>9</td>\n",
       "      <td>197</td>\n",
       "      <td>38</td>\n",
       "      <td>29</td>\n",
       "      <td>13</td>\n",
       "      <td>0</td>\n",
       "      <td>...</td>\n",
       "      <td>9</td>\n",
       "      <td>0</td>\n",
       "      <td>0</td>\n",
       "      <td>0.272727</td>\n",
       "      <td>0.600000</td>\n",
       "      <td>0.0</td>\n",
       "      <td>0.000000</td>\n",
       "      <td>1</td>\n",
       "      <td>-1</td>\n",
       "      <td>1</td>\n",
       "    </tr>\n",
       "    <tr>\n",
       "      <th>127</th>\n",
       "      <td>36</td>\n",
       "      <td>38</td>\n",
       "      <td>22</td>\n",
       "      <td>5</td>\n",
       "      <td>15</td>\n",
       "      <td>118</td>\n",
       "      <td>37</td>\n",
       "      <td>32</td>\n",
       "      <td>21</td>\n",
       "      <td>0</td>\n",
       "      <td>...</td>\n",
       "      <td>6</td>\n",
       "      <td>2</td>\n",
       "      <td>2</td>\n",
       "      <td>0.500000</td>\n",
       "      <td>0.500000</td>\n",
       "      <td>1.0</td>\n",
       "      <td>1.000000</td>\n",
       "      <td>-1</td>\n",
       "      <td>1</td>\n",
       "      <td>1</td>\n",
       "    </tr>\n",
       "    <tr>\n",
       "      <th>68</th>\n",
       "      <td>23</td>\n",
       "      <td>27</td>\n",
       "      <td>22</td>\n",
       "      <td>3</td>\n",
       "      <td>15</td>\n",
       "      <td>77</td>\n",
       "      <td>23</td>\n",
       "      <td>44</td>\n",
       "      <td>29</td>\n",
       "      <td>3</td>\n",
       "      <td>...</td>\n",
       "      <td>4</td>\n",
       "      <td>3</td>\n",
       "      <td>2</td>\n",
       "      <td>0.500000</td>\n",
       "      <td>0.285714</td>\n",
       "      <td>0.0</td>\n",
       "      <td>0.666667</td>\n",
       "      <td>3</td>\n",
       "      <td>-3</td>\n",
       "      <td>1</td>\n",
       "    </tr>\n",
       "  </tbody>\n",
       "</table>\n",
       "<p>5 rows × 63 columns</p>\n",
       "</div>"
      ],
      "text/plain": [
       "      Team1_team_score  Team2_team_score  Team1_first_downs  \\\n",
       "544                 16                48                 16   \n",
       "631                 10                48                 17   \n",
       "1372                17                51                 24   \n",
       "127                 36                38                 22   \n",
       "68                  23                27                 22   \n",
       "\n",
       "      Team1_passing_first_downs  Team1_rushing_first_downs  Team1_rushing_yds  \\\n",
       "544                           6                          9                 97   \n",
       "631                           7                          8                122   \n",
       "1372                         11                          9                197   \n",
       "127                           5                         15                118   \n",
       "68                            3                         15                 77   \n",
       "\n",
       "      Team1_rushing_attempts  Team1_passing_attempts  \\\n",
       "544                       29                      41   \n",
       "631                       21                      41   \n",
       "1372                      38                      29   \n",
       "127                       37                      32   \n",
       "68                        23                      44   \n",
       "\n",
       "      Team1_passing_completions  Team1_passing_interceptions    ...      \\\n",
       "544                          18                            1    ...       \n",
       "631                          20                            1    ...       \n",
       "1372                         13                            0    ...       \n",
       "127                          21                            0    ...       \n",
       "68                           29                            3    ...       \n",
       "\n",
       "     Team2_third_down_suc  Team2_fourth_down_attempts  Team2_fourth_down_suc  \\\n",
       "544                     8                           0                      0   \n",
       "631                     6                           3                      3   \n",
       "1372                    9                           0                      0   \n",
       "127                     6                           2                      2   \n",
       "68                      4                           3                      2   \n",
       "\n",
       "      Team1_third_down_conv_pct  Team2_third_down_conv_pct  \\\n",
       "544                    0.266667                   0.571429   \n",
       "631                    0.562500                   0.500000   \n",
       "1372                   0.272727                   0.600000   \n",
       "127                    0.500000                   0.500000   \n",
       "68                     0.500000                   0.285714   \n",
       "\n",
       "      Team1_fourth_down_conv_pct  Team2_fourth_down_conv_pct  \\\n",
       "544                          1.0                    0.000000   \n",
       "631                          0.0                    1.000000   \n",
       "1372                         0.0                    0.000000   \n",
       "127                          1.0                    1.000000   \n",
       "68                           0.0                    0.666667   \n",
       "\n",
       "      Team1_turnover_margin  Team2_turnover_margin  Team2_win  \n",
       "544                      -1                      1          1  \n",
       "631                       1                     -1          1  \n",
       "1372                      1                     -1          1  \n",
       "127                      -1                      1          1  \n",
       "68                        3                     -3          1  \n",
       "\n",
       "[5 rows x 63 columns]"
      ]
     },
     "execution_count": 10,
     "metadata": {},
     "output_type": "execute_result"
    }
   ],
   "source": [
    "flip_df.head()"
   ]
  },
  {
   "cell_type": "code",
   "execution_count": 11,
   "metadata": {},
   "outputs": [],
   "source": [
    "orig_cols = flip_df.columns.tolist()"
   ]
  },
  {
   "cell_type": "code",
   "execution_count": 12,
   "metadata": {},
   "outputs": [],
   "source": [
    "target_yes = target_yes.drop(remove_index)"
   ]
  },
  {
   "cell_type": "code",
   "execution_count": 13,
   "metadata": {},
   "outputs": [],
   "source": [
    "### Rename and flip values\n",
    "t1_cols_rename = flip_df[flip_df.columns[flip_df.columns.str.contains('Team1')]].columns.tolist()\n",
    "sep_df = flip_df[t1_cols_rename]\n",
    "t1_cols_rename = [word.replace('1','2') for word in t1_cols_rename]\n",
    "sep_df.columns = t1_cols_rename\n",
    "\n",
    "t2_cols_rename = flip_df[flip_df.columns[flip_df.columns.str.contains('Team2')]].columns.tolist()\n",
    "sep_df2 = flip_df[t2_cols_rename]\n",
    "t2_cols_rename = [word.replace('2','1') for word in t2_cols_rename]\n",
    "sep_df2.columns = t2_cols_rename"
   ]
  },
  {
   "cell_type": "code",
   "execution_count": 14,
   "metadata": {},
   "outputs": [],
   "source": [
    "flip_df = pd.concat([sep_df,sep_df2],axis=1)\n",
    "flip_df = flip_df.drop('Team1_win',axis=1)\n",
    "flip_df['Team2_win'] = np.where(flip_df['Team2_team_score']>flip_df['Team1_team_score'],1,0)\n",
    "flip_df = flip_df[orig_cols]"
   ]
  },
  {
   "cell_type": "code",
   "execution_count": 15,
   "metadata": {},
   "outputs": [
    {
     "data": {
      "text/plain": [
       "(1179, 63)"
      ]
     },
     "execution_count": 15,
     "metadata": {},
     "output_type": "execute_result"
    }
   ],
   "source": [
    "target_yes.shape"
   ]
  },
  {
   "cell_type": "code",
   "execution_count": 16,
   "metadata": {},
   "outputs": [],
   "source": [
    "target_no = pd.concat([target_no,flip_df],axis=0)"
   ]
  },
  {
   "cell_type": "code",
   "execution_count": 17,
   "metadata": {},
   "outputs": [],
   "source": [
    "clean_ind_games2 = pd.concat([target_yes,target_no],axis=0).sample(frac=1).reset_index(drop=True)"
   ]
  },
  {
   "cell_type": "code",
   "execution_count": 18,
   "metadata": {},
   "outputs": [],
   "source": [
    "clean_ind_games2.to_csv('data/final_data/clean_shuffled_games.csv',index=False)"
   ]
  },
  {
   "cell_type": "markdown",
   "metadata": {},
   "source": [
    "### Create Scale Model "
   ]
  },
  {
   "cell_type": "code",
   "execution_count": 19,
   "metadata": {},
   "outputs": [
    {
     "name": "stderr",
     "output_type": "stream",
     "text": [
      "/anaconda3/lib/python3.6/site-packages/ipykernel_launcher.py:1: FutureWarning: convert_objects is deprecated.  To re-infer data dtypes for object columns, use DataFrame.infer_objects()\n",
      "For all other conversions use the data-type specific converters pd.to_datetime, pd.to_timedelta and pd.to_numeric.\n",
      "  \"\"\"Entry point for launching an IPython kernel.\n"
     ]
    }
   ],
   "source": [
    "scale_df = clean_ind_games2.drop(['Team2_win','Team1_team_score','Team2_team_score'],axis=1).convert_objects(convert_numeric=True)\n",
    "scale_df = scale_df.fillna(0)"
   ]
  },
  {
   "cell_type": "code",
   "execution_count": 20,
   "metadata": {},
   "outputs": [],
   "source": [
    "from sklearn.preprocessing import StandardScaler\n",
    "scaler = StandardScaler()\n",
    "scaled_data = scaler.fit_transform(scale_df)"
   ]
  },
  {
   "cell_type": "code",
   "execution_count": 21,
   "metadata": {},
   "outputs": [
    {
     "data": {
      "text/plain": [
       "['models/scaler.sav']"
      ]
     },
     "execution_count": 21,
     "metadata": {},
     "output_type": "execute_result"
    }
   ],
   "source": [
    "from sklearn.externals import joblib \n",
    "scaler_filename = \"models/scaler.sav\"\n",
    "joblib.dump(scaler, scaler_filename) "
   ]
  },
  {
   "cell_type": "markdown",
   "metadata": {},
   "source": [
    "### Train/Test"
   ]
  },
  {
   "cell_type": "code",
   "execution_count": 22,
   "metadata": {},
   "outputs": [],
   "source": [
    "from sklearn.model_selection import train_test_split"
   ]
  },
  {
   "cell_type": "code",
   "execution_count": 23,
   "metadata": {},
   "outputs": [
    {
     "name": "stderr",
     "output_type": "stream",
     "text": [
      "/anaconda3/lib/python3.6/site-packages/ipykernel_launcher.py:1: FutureWarning: convert_objects is deprecated.  To re-infer data dtypes for object columns, use DataFrame.infer_objects()\n",
      "For all other conversions use the data-type specific converters pd.to_datetime, pd.to_timedelta and pd.to_numeric.\n",
      "  \"\"\"Entry point for launching an IPython kernel.\n"
     ]
    }
   ],
   "source": [
    "clean_ind_games2 = clean_ind_games2.drop(['Team1_team_score','Team2_team_score'],axis=1).convert_objects(convert_numeric=True)\n",
    "clean_ind_games2 = clean_ind_games2.fillna(0)"
   ]
  },
  {
   "cell_type": "code",
   "execution_count": 24,
   "metadata": {},
   "outputs": [],
   "source": [
    "trainingSet, testSet = train_test_split(clean_ind_games2, test_size=0.3,stratify=None)"
   ]
  },
  {
   "cell_type": "code",
   "execution_count": 25,
   "metadata": {},
   "outputs": [],
   "source": [
    "trainingSet.to_csv(\"data/final_data/clean_train.csv\",index=False)\n",
    "testSet.to_csv(\"data/final_data/clean_test.csv\",index=False)"
   ]
  },
  {
   "cell_type": "markdown",
   "metadata": {},
   "source": [
    "### Prepare Data to search through"
   ]
  },
  {
   "cell_type": "code",
   "execution_count": 32,
   "metadata": {},
   "outputs": [],
   "source": [
    "search_df = ind_games.drop(['Team1_team_id','Team2_team_id','Team1_team_score','Team2_team_score',\n",
    "                           'Team2_win'],axis=1)"
   ]
  },
  {
   "cell_type": "code",
   "execution_count": 34,
   "metadata": {},
   "outputs": [],
   "source": [
    "game_ids = search_df['game_id']"
   ]
  },
  {
   "cell_type": "code",
   "execution_count": 44,
   "metadata": {},
   "outputs": [],
   "source": [
    "team1_df = search_df[search_df.columns[search_df.columns.str.contains('Team1')].tolist()]\n",
    "team2_df = search_df[search_df.columns[search_df.columns.str.contains('Team2')].tolist()]"
   ]
  },
  {
   "cell_type": "code",
   "execution_count": 47,
   "metadata": {},
   "outputs": [],
   "source": [
    "t1_cols_rename = team2_df.columns\n",
    "t1_cols_rename = [word.replace('2','1') for word in t1_cols_rename]\n",
    "team2_df.columns = t1_cols_rename"
   ]
  },
  {
   "cell_type": "code",
   "execution_count": 53,
   "metadata": {},
   "outputs": [],
   "source": [
    "search_df_fin = pd.concat([pd.concat([game_ids,team1_df],axis=1),pd.concat([game_ids,team2_df],axis=1)],axis=0)"
   ]
  },
  {
   "cell_type": "code",
   "execution_count": 57,
   "metadata": {},
   "outputs": [],
   "source": [
    "search_df_fin.to_csv('data/final_data/team_games_data.csv',index=False)"
   ]
  },
  {
   "cell_type": "code",
   "execution_count": 60,
   "metadata": {},
   "outputs": [
    {
     "data": {
      "text/html": [
       "<div>\n",
       "<style scoped>\n",
       "    .dataframe tbody tr th:only-of-type {\n",
       "        vertical-align: middle;\n",
       "    }\n",
       "\n",
       "    .dataframe tbody tr th {\n",
       "        vertical-align: top;\n",
       "    }\n",
       "\n",
       "    .dataframe thead th {\n",
       "        text-align: right;\n",
       "    }\n",
       "</style>\n",
       "<table border=\"1\" class=\"dataframe\">\n",
       "  <thead>\n",
       "    <tr style=\"text-align: right;\">\n",
       "      <th></th>\n",
       "      <th>game_id</th>\n",
       "      <th>Team1</th>\n",
       "      <th>Team1_first_downs</th>\n",
       "      <th>Team1_passing_first_downs</th>\n",
       "      <th>Team1_rushing_first_downs</th>\n",
       "      <th>Team1_rushing_yds</th>\n",
       "      <th>Team1_rushing_attempts</th>\n",
       "      <th>Team1_passing_attempts</th>\n",
       "      <th>Team1_passing_completions</th>\n",
       "      <th>Team1_passing_interceptions</th>\n",
       "      <th>...</th>\n",
       "      <th>Team1_kick_re_number</th>\n",
       "      <th>Team1_kick_re_yds</th>\n",
       "      <th>Team1_int_re_yds</th>\n",
       "      <th>Team1_third_down_attempts</th>\n",
       "      <th>Team1_third_down_suc</th>\n",
       "      <th>Team1_fourth_down_attempts</th>\n",
       "      <th>Team1_fourth_down_suc</th>\n",
       "      <th>Team1_third_down_conv_pct</th>\n",
       "      <th>Team1_fourth_down_conv_pct</th>\n",
       "      <th>Team1_turnover_margin</th>\n",
       "    </tr>\n",
       "  </thead>\n",
       "  <tbody>\n",
       "    <tr>\n",
       "      <th>0</th>\n",
       "      <td>west-virginia-texas-tech</td>\n",
       "      <td>West Virginia</td>\n",
       "      <td>26</td>\n",
       "      <td>8</td>\n",
       "      <td>15</td>\n",
       "      <td>119</td>\n",
       "      <td>32</td>\n",
       "      <td>41</td>\n",
       "      <td>27</td>\n",
       "      <td>0</td>\n",
       "      <td>...</td>\n",
       "      <td>0</td>\n",
       "      <td>0</td>\n",
       "      <td>106</td>\n",
       "      <td>14</td>\n",
       "      <td>7</td>\n",
       "      <td>1</td>\n",
       "      <td>0</td>\n",
       "      <td>0.500000</td>\n",
       "      <td>0.000000</td>\n",
       "      <td>-3</td>\n",
       "    </tr>\n",
       "    <tr>\n",
       "      <th>1561</th>\n",
       "      <td>west-virginia-texas-tech</td>\n",
       "      <td>West Virginia</td>\n",
       "      <td>28</td>\n",
       "      <td>15</td>\n",
       "      <td>12</td>\n",
       "      <td>332</td>\n",
       "      <td>46</td>\n",
       "      <td>31</td>\n",
       "      <td>21</td>\n",
       "      <td>0</td>\n",
       "      <td>...</td>\n",
       "      <td>1</td>\n",
       "      <td>25</td>\n",
       "      <td>0</td>\n",
       "      <td>13</td>\n",
       "      <td>7</td>\n",
       "      <td>1</td>\n",
       "      <td>1</td>\n",
       "      <td>0.538462</td>\n",
       "      <td>1.000000</td>\n",
       "      <td>-1</td>\n",
       "    </tr>\n",
       "    <tr>\n",
       "      <th>0</th>\n",
       "      <td>west-virginia-texas-tech</td>\n",
       "      <td>Texas Tech</td>\n",
       "      <td>28</td>\n",
       "      <td>13</td>\n",
       "      <td>13</td>\n",
       "      <td>168</td>\n",
       "      <td>42</td>\n",
       "      <td>47</td>\n",
       "      <td>25</td>\n",
       "      <td>3</td>\n",
       "      <td>...</td>\n",
       "      <td>0</td>\n",
       "      <td>0</td>\n",
       "      <td>0</td>\n",
       "      <td>17</td>\n",
       "      <td>7</td>\n",
       "      <td>3</td>\n",
       "      <td>3</td>\n",
       "      <td>0.411765</td>\n",
       "      <td>1.000000</td>\n",
       "      <td>3</td>\n",
       "    </tr>\n",
       "    <tr>\n",
       "      <th>1561</th>\n",
       "      <td>west-virginia-texas-tech</td>\n",
       "      <td>Texas Tech</td>\n",
       "      <td>21</td>\n",
       "      <td>6</td>\n",
       "      <td>12</td>\n",
       "      <td>34</td>\n",
       "      <td>27</td>\n",
       "      <td>50</td>\n",
       "      <td>32</td>\n",
       "      <td>1</td>\n",
       "      <td>...</td>\n",
       "      <td>1</td>\n",
       "      <td>25</td>\n",
       "      <td>0</td>\n",
       "      <td>19</td>\n",
       "      <td>10</td>\n",
       "      <td>3</td>\n",
       "      <td>1</td>\n",
       "      <td>0.526316</td>\n",
       "      <td>0.333333</td>\n",
       "      <td>1</td>\n",
       "    </tr>\n",
       "  </tbody>\n",
       "</table>\n",
       "<p>4 rows × 32 columns</p>\n",
       "</div>"
      ],
      "text/plain": [
       "                       game_id          Team1  Team1_first_downs  \\\n",
       "0     west-virginia-texas-tech  West Virginia                 26   \n",
       "1561  west-virginia-texas-tech  West Virginia                 28   \n",
       "0     west-virginia-texas-tech     Texas Tech                 28   \n",
       "1561  west-virginia-texas-tech     Texas Tech                 21   \n",
       "\n",
       "      Team1_passing_first_downs  Team1_rushing_first_downs  Team1_rushing_yds  \\\n",
       "0                             8                         15                119   \n",
       "1561                         15                         12                332   \n",
       "0                            13                         13                168   \n",
       "1561                          6                         12                 34   \n",
       "\n",
       "      Team1_rushing_attempts  Team1_passing_attempts  \\\n",
       "0                         32                      41   \n",
       "1561                      46                      31   \n",
       "0                         42                      47   \n",
       "1561                      27                      50   \n",
       "\n",
       "      Team1_passing_completions  Team1_passing_interceptions  \\\n",
       "0                            27                            0   \n",
       "1561                         21                            0   \n",
       "0                            25                            3   \n",
       "1561                         32                            1   \n",
       "\n",
       "              ...           Team1_kick_re_number  Team1_kick_re_yds  \\\n",
       "0             ...                              0                  0   \n",
       "1561          ...                              1                 25   \n",
       "0             ...                              0                  0   \n",
       "1561          ...                              1                 25   \n",
       "\n",
       "      Team1_int_re_yds  Team1_third_down_attempts  Team1_third_down_suc  \\\n",
       "0                  106                         14                     7   \n",
       "1561                 0                         13                     7   \n",
       "0                    0                         17                     7   \n",
       "1561                 0                         19                    10   \n",
       "\n",
       "      Team1_fourth_down_attempts  Team1_fourth_down_suc  \\\n",
       "0                              1                      0   \n",
       "1561                           1                      1   \n",
       "0                              3                      3   \n",
       "1561                           3                      1   \n",
       "\n",
       "      Team1_third_down_conv_pct  Team1_fourth_down_conv_pct  \\\n",
       "0                      0.500000                    0.000000   \n",
       "1561                   0.538462                    1.000000   \n",
       "0                      0.411765                    1.000000   \n",
       "1561                   0.526316                    0.333333   \n",
       "\n",
       "      Team1_turnover_margin  \n",
       "0                        -3  \n",
       "1561                     -1  \n",
       "0                         3  \n",
       "1561                      1  \n",
       "\n",
       "[4 rows x 32 columns]"
      ]
     },
     "execution_count": 60,
     "metadata": {},
     "output_type": "execute_result"
    }
   ],
   "source": [
    "search_df_fin[search_df_fin['game_id'] == 'west-virginia-texas-tech']"
   ]
  },
  {
   "cell_type": "code",
   "execution_count": null,
   "metadata": {},
   "outputs": [],
   "source": []
  }
 ],
 "metadata": {
  "kernelspec": {
   "display_name": "Python 3",
   "language": "python",
   "name": "python3"
  },
  "language_info": {
   "codemirror_mode": {
    "name": "ipython",
    "version": 3
   },
   "file_extension": ".py",
   "mimetype": "text/x-python",
   "name": "python",
   "nbconvert_exporter": "python",
   "pygments_lexer": "ipython3",
   "version": "3.6.5"
  }
 },
 "nbformat": 4,
 "nbformat_minor": 2
}
