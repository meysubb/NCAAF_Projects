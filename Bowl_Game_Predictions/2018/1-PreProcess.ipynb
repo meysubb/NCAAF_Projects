{
 "cells": [
  {
   "cell_type": "code",
   "execution_count": 1,
   "metadata": {},
   "outputs": [],
   "source": [
    "import pandas as pd\n",
    "import numpy as np"
   ]
  },
  {
   "cell_type": "code",
   "execution_count": 2,
   "metadata": {},
   "outputs": [],
   "source": [
    "ind_games = pd.read_csv(\"data/final_data/all_games_16_18.csv\")"
   ]
  },
  {
   "cell_type": "code",
   "execution_count": 3,
   "metadata": {},
   "outputs": [],
   "source": [
    "ind_games = ind_games.drop('Team2_int_re_number',axis=1)"
   ]
  },
  {
   "cell_type": "code",
   "execution_count": 4,
   "metadata": {},
   "outputs": [],
   "source": [
    "clean_ind_games = ind_games.drop(['game_id','Team1_team_id','Team2_team_id','Team1','Team2'],axis=1)"
   ]
  },
  {
   "cell_type": "markdown",
   "metadata": {},
   "source": [
    "### Target split"
   ]
  },
  {
   "cell_type": "code",
   "execution_count": 5,
   "metadata": {},
   "outputs": [
    {
     "data": {
      "text/plain": [
       "1    0.622561\n",
       "0    0.377439\n",
       "Name: Team2_win, dtype: float64"
      ]
     },
     "execution_count": 5,
     "metadata": {},
     "output_type": "execute_result"
    }
   ],
   "source": [
    "clean_ind_games['Team2_win'].value_counts()/clean_ind_games.shape[0]"
   ]
  },
  {
   "cell_type": "markdown",
   "metadata": {},
   "source": [
    "### Re-shuffle dataframe to get equal target variables "
   ]
  },
  {
   "cell_type": "code",
   "execution_count": 6,
   "metadata": {},
   "outputs": [],
   "source": [
    "target_yes = clean_ind_games[clean_ind_games['Team2_win'] == 1]\n",
    "target_no = clean_ind_games[clean_ind_games['Team2_win']==0]"
   ]
  },
  {
   "cell_type": "code",
   "execution_count": 7,
   "metadata": {},
   "outputs": [],
   "source": [
    "sample_no = int((target_yes.shape[0] - target_no.shape[0])/2)"
   ]
  },
  {
   "cell_type": "code",
   "execution_count": 8,
   "metadata": {},
   "outputs": [],
   "source": [
    "flip_df = target_yes.sample(n=sample_no)\n",
    "remove_index = flip_df.index.tolist()"
   ]
  },
  {
   "cell_type": "code",
   "execution_count": 9,
   "metadata": {},
   "outputs": [
    {
     "data": {
      "text/html": [
       "<div>\n",
       "<style scoped>\n",
       "    .dataframe tbody tr th:only-of-type {\n",
       "        vertical-align: middle;\n",
       "    }\n",
       "\n",
       "    .dataframe tbody tr th {\n",
       "        vertical-align: top;\n",
       "    }\n",
       "\n",
       "    .dataframe thead th {\n",
       "        text-align: right;\n",
       "    }\n",
       "</style>\n",
       "<table border=\"1\" class=\"dataframe\">\n",
       "  <thead>\n",
       "    <tr style=\"text-align: right;\">\n",
       "      <th></th>\n",
       "      <th>Team1_team_score</th>\n",
       "      <th>Team2_team_score</th>\n",
       "      <th>Team1_first_downs</th>\n",
       "      <th>Team1_passing_first_downs</th>\n",
       "      <th>Team1_rushing_first_downs</th>\n",
       "      <th>Team1_rushing_yds</th>\n",
       "      <th>Team1_rushing_attempts</th>\n",
       "      <th>Team1_passing_attempts</th>\n",
       "      <th>Team1_passing_completions</th>\n",
       "      <th>Team1_passing_interceptions</th>\n",
       "      <th>...</th>\n",
       "      <th>Team2_third_down_suc</th>\n",
       "      <th>Team2_fourth_down_attempts</th>\n",
       "      <th>Team2_fourth_down_suc</th>\n",
       "      <th>Team1_third_down_conv_pct</th>\n",
       "      <th>Team2_third_down_conv_pct</th>\n",
       "      <th>Team1_fourth_down_conv_pct</th>\n",
       "      <th>Team2_fourth_down_conv_pct</th>\n",
       "      <th>Team1_turnover_margin</th>\n",
       "      <th>Team2_turnover_margin</th>\n",
       "      <th>Team2_win</th>\n",
       "    </tr>\n",
       "  </thead>\n",
       "  <tbody>\n",
       "    <tr>\n",
       "      <th>143</th>\n",
       "      <td>17</td>\n",
       "      <td>33</td>\n",
       "      <td>18</td>\n",
       "      <td>6</td>\n",
       "      <td>9</td>\n",
       "      <td>83</td>\n",
       "      <td>34</td>\n",
       "      <td>35</td>\n",
       "      <td>15</td>\n",
       "      <td>2</td>\n",
       "      <td>...</td>\n",
       "      <td>3</td>\n",
       "      <td>1</td>\n",
       "      <td>1</td>\n",
       "      <td>0.375000</td>\n",
       "      <td>0.187500</td>\n",
       "      <td>0.333333</td>\n",
       "      <td>1.0</td>\n",
       "      <td>2</td>\n",
       "      <td>-2</td>\n",
       "      <td>1</td>\n",
       "    </tr>\n",
       "    <tr>\n",
       "      <th>621</th>\n",
       "      <td>13</td>\n",
       "      <td>16</td>\n",
       "      <td>23</td>\n",
       "      <td>5</td>\n",
       "      <td>17</td>\n",
       "      <td>63</td>\n",
       "      <td>27</td>\n",
       "      <td>39</td>\n",
       "      <td>27</td>\n",
       "      <td>1</td>\n",
       "      <td>...</td>\n",
       "      <td>6</td>\n",
       "      <td>2</td>\n",
       "      <td>1</td>\n",
       "      <td>0.333333</td>\n",
       "      <td>0.375000</td>\n",
       "      <td>0.000000</td>\n",
       "      <td>0.5</td>\n",
       "      <td>0</td>\n",
       "      <td>0</td>\n",
       "      <td>1</td>\n",
       "    </tr>\n",
       "    <tr>\n",
       "      <th>1804</th>\n",
       "      <td>17</td>\n",
       "      <td>24</td>\n",
       "      <td>15</td>\n",
       "      <td>4</td>\n",
       "      <td>8</td>\n",
       "      <td>85</td>\n",
       "      <td>34</td>\n",
       "      <td>28</td>\n",
       "      <td>18</td>\n",
       "      <td>1</td>\n",
       "      <td>...</td>\n",
       "      <td>7</td>\n",
       "      <td>2</td>\n",
       "      <td>2</td>\n",
       "      <td>0.500000</td>\n",
       "      <td>0.466667</td>\n",
       "      <td>1.000000</td>\n",
       "      <td>1.0</td>\n",
       "      <td>1</td>\n",
       "      <td>-1</td>\n",
       "      <td>1</td>\n",
       "    </tr>\n",
       "    <tr>\n",
       "      <th>712</th>\n",
       "      <td>16</td>\n",
       "      <td>32</td>\n",
       "      <td>11</td>\n",
       "      <td>6</td>\n",
       "      <td>3</td>\n",
       "      <td>139</td>\n",
       "      <td>45</td>\n",
       "      <td>19</td>\n",
       "      <td>7</td>\n",
       "      <td>3</td>\n",
       "      <td>...</td>\n",
       "      <td>6</td>\n",
       "      <td>1</td>\n",
       "      <td>1</td>\n",
       "      <td>0.333333</td>\n",
       "      <td>0.428571</td>\n",
       "      <td>0.500000</td>\n",
       "      <td>1.0</td>\n",
       "      <td>1</td>\n",
       "      <td>-1</td>\n",
       "      <td>1</td>\n",
       "    </tr>\n",
       "    <tr>\n",
       "      <th>1350</th>\n",
       "      <td>20</td>\n",
       "      <td>48</td>\n",
       "      <td>17</td>\n",
       "      <td>11</td>\n",
       "      <td>6</td>\n",
       "      <td>139</td>\n",
       "      <td>31</td>\n",
       "      <td>28</td>\n",
       "      <td>15</td>\n",
       "      <td>1</td>\n",
       "      <td>...</td>\n",
       "      <td>8</td>\n",
       "      <td>2</td>\n",
       "      <td>2</td>\n",
       "      <td>0.300000</td>\n",
       "      <td>0.500000</td>\n",
       "      <td>0.000000</td>\n",
       "      <td>1.0</td>\n",
       "      <td>1</td>\n",
       "      <td>-1</td>\n",
       "      <td>1</td>\n",
       "    </tr>\n",
       "  </tbody>\n",
       "</table>\n",
       "<p>5 rows × 63 columns</p>\n",
       "</div>"
      ],
      "text/plain": [
       "      Team1_team_score  Team2_team_score  Team1_first_downs  \\\n",
       "143                 17                33                 18   \n",
       "621                 13                16                 23   \n",
       "1804                17                24                 15   \n",
       "712                 16                32                 11   \n",
       "1350                20                48                 17   \n",
       "\n",
       "      Team1_passing_first_downs  Team1_rushing_first_downs  Team1_rushing_yds  \\\n",
       "143                           6                          9                 83   \n",
       "621                           5                         17                 63   \n",
       "1804                          4                          8                 85   \n",
       "712                           6                          3                139   \n",
       "1350                         11                          6                139   \n",
       "\n",
       "      Team1_rushing_attempts  Team1_passing_attempts  \\\n",
       "143                       34                      35   \n",
       "621                       27                      39   \n",
       "1804                      34                      28   \n",
       "712                       45                      19   \n",
       "1350                      31                      28   \n",
       "\n",
       "      Team1_passing_completions  Team1_passing_interceptions    ...      \\\n",
       "143                          15                            2    ...       \n",
       "621                          27                            1    ...       \n",
       "1804                         18                            1    ...       \n",
       "712                           7                            3    ...       \n",
       "1350                         15                            1    ...       \n",
       "\n",
       "     Team2_third_down_suc  Team2_fourth_down_attempts  Team2_fourth_down_suc  \\\n",
       "143                     3                           1                      1   \n",
       "621                     6                           2                      1   \n",
       "1804                    7                           2                      2   \n",
       "712                     6                           1                      1   \n",
       "1350                    8                           2                      2   \n",
       "\n",
       "      Team1_third_down_conv_pct  Team2_third_down_conv_pct  \\\n",
       "143                    0.375000                   0.187500   \n",
       "621                    0.333333                   0.375000   \n",
       "1804                   0.500000                   0.466667   \n",
       "712                    0.333333                   0.428571   \n",
       "1350                   0.300000                   0.500000   \n",
       "\n",
       "      Team1_fourth_down_conv_pct  Team2_fourth_down_conv_pct  \\\n",
       "143                     0.333333                         1.0   \n",
       "621                     0.000000                         0.5   \n",
       "1804                    1.000000                         1.0   \n",
       "712                     0.500000                         1.0   \n",
       "1350                    0.000000                         1.0   \n",
       "\n",
       "      Team1_turnover_margin  Team2_turnover_margin  Team2_win  \n",
       "143                       2                     -2          1  \n",
       "621                       0                      0          1  \n",
       "1804                      1                     -1          1  \n",
       "712                       1                     -1          1  \n",
       "1350                      1                     -1          1  \n",
       "\n",
       "[5 rows x 63 columns]"
      ]
     },
     "execution_count": 9,
     "metadata": {},
     "output_type": "execute_result"
    }
   ],
   "source": [
    "flip_df.head()"
   ]
  },
  {
   "cell_type": "code",
   "execution_count": 10,
   "metadata": {},
   "outputs": [],
   "source": [
    "orig_cols = flip_df.columns.tolist()"
   ]
  },
  {
   "cell_type": "code",
   "execution_count": 11,
   "metadata": {},
   "outputs": [],
   "source": [
    "target_yes = target_yes.drop(remove_index)"
   ]
  },
  {
   "cell_type": "code",
   "execution_count": 12,
   "metadata": {},
   "outputs": [],
   "source": [
    "### Rename and flip values\n",
    "t1_cols_rename = flip_df[flip_df.columns[flip_df.columns.str.contains('Team1')]].columns.tolist()\n",
    "sep_df = flip_df[t1_cols_rename]\n",
    "t1_cols_rename = [word.replace('1','2') for word in t1_cols_rename]\n",
    "sep_df.columns = t1_cols_rename\n",
    "\n",
    "t2_cols_rename = flip_df[flip_df.columns[flip_df.columns.str.contains('Team2')]].columns.tolist()\n",
    "sep_df2 = flip_df[t2_cols_rename]\n",
    "t2_cols_rename = [word.replace('2','1') for word in t2_cols_rename]\n",
    "sep_df2.columns = t2_cols_rename"
   ]
  },
  {
   "cell_type": "code",
   "execution_count": 13,
   "metadata": {},
   "outputs": [],
   "source": [
    "flip_df = pd.concat([sep_df,sep_df2],axis=1)\n",
    "flip_df = flip_df.drop('Team1_win',axis=1)\n",
    "flip_df['Team2_win'] = np.where(flip_df['Team2_team_score']>flip_df['Team1_team_score'],1,0)\n",
    "flip_df = flip_df[orig_cols]"
   ]
  },
  {
   "cell_type": "code",
   "execution_count": 14,
   "metadata": {},
   "outputs": [
    {
     "data": {
      "text/plain": [
       "(1179, 63)"
      ]
     },
     "execution_count": 14,
     "metadata": {},
     "output_type": "execute_result"
    }
   ],
   "source": [
    "target_yes.shape"
   ]
  },
  {
   "cell_type": "code",
   "execution_count": 15,
   "metadata": {},
   "outputs": [],
   "source": [
    "target_no = pd.concat([target_no,flip_df],axis=0)"
   ]
  },
  {
   "cell_type": "code",
   "execution_count": 16,
   "metadata": {},
   "outputs": [],
   "source": [
    "clean_ind_games2 = pd.concat([target_yes,target_no],axis=0).sample(frac=1).reset_index(drop=True)"
   ]
  },
  {
   "cell_type": "code",
   "execution_count": 17,
   "metadata": {},
   "outputs": [],
   "source": [
    "clean_ind_games2.to_csv('data/final_data/clean_shuffled_games.csv')"
   ]
  },
  {
   "cell_type": "markdown",
   "metadata": {},
   "source": [
    "### Create Scale Model "
   ]
  },
  {
   "cell_type": "code",
   "execution_count": 37,
   "metadata": {},
   "outputs": [
    {
     "name": "stderr",
     "output_type": "stream",
     "text": [
      "/anaconda3/lib/python3.6/site-packages/ipykernel_launcher.py:1: FutureWarning: convert_objects is deprecated.  To re-infer data dtypes for object columns, use DataFrame.infer_objects()\n",
      "For all other conversions use the data-type specific converters pd.to_datetime, pd.to_timedelta and pd.to_numeric.\n",
      "  \"\"\"Entry point for launching an IPython kernel.\n"
     ]
    }
   ],
   "source": [
    "scale_df = clean_ind_games2.drop('Team2_win',axis=1).convert_objects(convert_numeric=True)\n",
    "scale_df = scale_df.fillna(0)"
   ]
  },
  {
   "cell_type": "code",
   "execution_count": 38,
   "metadata": {},
   "outputs": [],
   "source": [
    "from sklearn.preprocessing import StandardScaler\n",
    "scaler = StandardScaler()\n",
    "scaled_data = scaler.fit_transform(scale_df)"
   ]
  },
  {
   "cell_type": "code",
   "execution_count": 42,
   "metadata": {},
   "outputs": [
    {
     "data": {
      "text/plain": [
       "['models/scaler.sav']"
      ]
     },
     "execution_count": 42,
     "metadata": {},
     "output_type": "execute_result"
    }
   ],
   "source": [
    "from sklearn.externals import joblib \n",
    "scaler_filename = \"models/scaler.sav\"\n",
    "joblib.dump(scaler, scaler_filename) "
   ]
  },
  {
   "cell_type": "markdown",
   "metadata": {},
   "source": [
    "### Train/Test"
   ]
  },
  {
   "cell_type": "code",
   "execution_count": 18,
   "metadata": {},
   "outputs": [],
   "source": [
    "from sklearn.model_selection import train_test_split"
   ]
  },
  {
   "cell_type": "code",
   "execution_count": 19,
   "metadata": {},
   "outputs": [],
   "source": [
    "trainingSet, testSet = train_test_split(clean_ind_games2, test_size=0.3,stratify=None)"
   ]
  },
  {
   "cell_type": "code",
   "execution_count": 20,
   "metadata": {},
   "outputs": [],
   "source": [
    "trainingSet.to_csv(\"data/final_data/clean_train.csv\")\n",
    "testSet.to_csv(\"data/final_data/clean_test.csv\")"
   ]
  }
 ],
 "metadata": {
  "kernelspec": {
   "display_name": "Python 3",
   "language": "python",
   "name": "python3"
  },
  "language_info": {
   "codemirror_mode": {
    "name": "ipython",
    "version": 3
   },
   "file_extension": ".py",
   "mimetype": "text/x-python",
   "name": "python",
   "nbconvert_exporter": "python",
   "pygments_lexer": "ipython3",
   "version": "3.6.5"
  }
 },
 "nbformat": 4,
 "nbformat_minor": 2
}
