{
 "cells": [
  {
   "cell_type": "code",
   "execution_count": 1,
   "metadata": {},
   "outputs": [],
   "source": [
    "import pandas as pd\n",
    "import numpy as np"
   ]
  },
  {
   "cell_type": "code",
   "execution_count": 2,
   "metadata": {},
   "outputs": [],
   "source": [
    "ind_games = pd.read_csv(\"data/final_data/all_games_16_18.csv\")"
   ]
  },
  {
   "cell_type": "code",
   "execution_count": 3,
   "metadata": {},
   "outputs": [],
   "source": [
    "ind_games = ind_games.drop('Team2_int_re_number',axis=1)"
   ]
  },
  {
   "cell_type": "code",
   "execution_count": 4,
   "metadata": {},
   "outputs": [],
   "source": [
    "clean_ind_games = ind_games.drop(['game_id','Team1_team_id','Team2_team_id','Team1','Team2'],axis=1)"
   ]
  },
  {
   "cell_type": "markdown",
   "metadata": {},
   "source": [
    "### Target split"
   ]
  },
  {
   "cell_type": "code",
   "execution_count": 5,
   "metadata": {},
   "outputs": [
    {
     "data": {
      "text/plain": [
       "1    0.622561\n",
       "0    0.377439\n",
       "Name: Team2_win, dtype: float64"
      ]
     },
     "execution_count": 5,
     "metadata": {},
     "output_type": "execute_result"
    }
   ],
   "source": [
    "clean_ind_games['Team2_win'].value_counts()/clean_ind_games.shape[0]"
   ]
  },
  {
   "cell_type": "markdown",
   "metadata": {},
   "source": [
    "### Re-shuffle dataframe to get equal target variables "
   ]
  },
  {
   "cell_type": "code",
   "execution_count": 6,
   "metadata": {},
   "outputs": [],
   "source": [
    "target_yes = clean_ind_games[clean_ind_games['Team2_win'] == 1]\n",
    "target_no = clean_ind_games[clean_ind_games['Team2_win']==0]"
   ]
  },
  {
   "cell_type": "code",
   "execution_count": 7,
   "metadata": {},
   "outputs": [],
   "source": [
    "sample_no = int((target_yes.shape[0] - target_no.shape[0])/2)"
   ]
  },
  {
   "cell_type": "code",
   "execution_count": 8,
   "metadata": {},
   "outputs": [],
   "source": [
    "flip_df = target_yes.sample(n=sample_no)\n",
    "remove_index = flip_df.index.tolist()"
   ]
  },
  {
   "cell_type": "code",
   "execution_count": 9,
   "metadata": {},
   "outputs": [
    {
     "data": {
      "text/html": [
       "<div>\n",
       "<style scoped>\n",
       "    .dataframe tbody tr th:only-of-type {\n",
       "        vertical-align: middle;\n",
       "    }\n",
       "\n",
       "    .dataframe tbody tr th {\n",
       "        vertical-align: top;\n",
       "    }\n",
       "\n",
       "    .dataframe thead th {\n",
       "        text-align: right;\n",
       "    }\n",
       "</style>\n",
       "<table border=\"1\" class=\"dataframe\">\n",
       "  <thead>\n",
       "    <tr style=\"text-align: right;\">\n",
       "      <th></th>\n",
       "      <th>Team1_team_score</th>\n",
       "      <th>Team2_team_score</th>\n",
       "      <th>Team1_first_downs</th>\n",
       "      <th>Team1_passing_first_downs</th>\n",
       "      <th>Team1_rushing_first_downs</th>\n",
       "      <th>Team1_rushing_yds</th>\n",
       "      <th>Team1_rushing_attempts</th>\n",
       "      <th>Team1_passing_attempts</th>\n",
       "      <th>Team1_passing_completions</th>\n",
       "      <th>Team1_passing_interceptions</th>\n",
       "      <th>...</th>\n",
       "      <th>Team2_third_down_suc</th>\n",
       "      <th>Team2_fourth_down_attempts</th>\n",
       "      <th>Team2_fourth_down_suc</th>\n",
       "      <th>Team1_third_down_conv_pct</th>\n",
       "      <th>Team2_third_down_conv_pct</th>\n",
       "      <th>Team1_fourth_down_conv_pct</th>\n",
       "      <th>Team2_fourth_down_conv_pct</th>\n",
       "      <th>Team1_turnover_margin</th>\n",
       "      <th>Team2_turnover_margin</th>\n",
       "      <th>Team2_win</th>\n",
       "    </tr>\n",
       "  </thead>\n",
       "  <tbody>\n",
       "    <tr>\n",
       "      <th>347</th>\n",
       "      <td>13</td>\n",
       "      <td>26</td>\n",
       "      <td>15</td>\n",
       "      <td>4</td>\n",
       "      <td>8</td>\n",
       "      <td>91</td>\n",
       "      <td>31</td>\n",
       "      <td>28</td>\n",
       "      <td>12</td>\n",
       "      <td>1</td>\n",
       "      <td>...</td>\n",
       "      <td>6</td>\n",
       "      <td>1</td>\n",
       "      <td>1</td>\n",
       "      <td>0.357143</td>\n",
       "      <td>0.375000</td>\n",
       "      <td>0.000000</td>\n",
       "      <td>1.0</td>\n",
       "      <td>-1</td>\n",
       "      <td>1</td>\n",
       "      <td>1</td>\n",
       "    </tr>\n",
       "    <tr>\n",
       "      <th>1890</th>\n",
       "      <td>24</td>\n",
       "      <td>31</td>\n",
       "      <td>24</td>\n",
       "      <td>12</td>\n",
       "      <td>9</td>\n",
       "      <td>158</td>\n",
       "      <td>48</td>\n",
       "      <td>31</td>\n",
       "      <td>16</td>\n",
       "      <td>1</td>\n",
       "      <td>...</td>\n",
       "      <td>7</td>\n",
       "      <td>1</td>\n",
       "      <td>1</td>\n",
       "      <td>0.333333</td>\n",
       "      <td>0.538462</td>\n",
       "      <td>0.666667</td>\n",
       "      <td>1.0</td>\n",
       "      <td>1</td>\n",
       "      <td>-1</td>\n",
       "      <td>1</td>\n",
       "    </tr>\n",
       "    <tr>\n",
       "      <th>2149</th>\n",
       "      <td>24</td>\n",
       "      <td>47</td>\n",
       "      <td>25</td>\n",
       "      <td>6</td>\n",
       "      <td>19</td>\n",
       "      <td>96</td>\n",
       "      <td>21</td>\n",
       "      <td>65</td>\n",
       "      <td>38</td>\n",
       "      <td>1</td>\n",
       "      <td>...</td>\n",
       "      <td>4</td>\n",
       "      <td>2</td>\n",
       "      <td>1</td>\n",
       "      <td>0.526316</td>\n",
       "      <td>0.333333</td>\n",
       "      <td>0.000000</td>\n",
       "      <td>0.5</td>\n",
       "      <td>1</td>\n",
       "      <td>-1</td>\n",
       "      <td>1</td>\n",
       "    </tr>\n",
       "    <tr>\n",
       "      <th>162</th>\n",
       "      <td>20</td>\n",
       "      <td>27</td>\n",
       "      <td>15</td>\n",
       "      <td>11</td>\n",
       "      <td>2</td>\n",
       "      <td>310</td>\n",
       "      <td>49</td>\n",
       "      <td>21</td>\n",
       "      <td>5</td>\n",
       "      <td>3</td>\n",
       "      <td>...</td>\n",
       "      <td>3</td>\n",
       "      <td>2</td>\n",
       "      <td>1</td>\n",
       "      <td>0.294118</td>\n",
       "      <td>0.230769</td>\n",
       "      <td>0.250000</td>\n",
       "      <td>0.5</td>\n",
       "      <td>3</td>\n",
       "      <td>-3</td>\n",
       "      <td>1</td>\n",
       "    </tr>\n",
       "    <tr>\n",
       "      <th>868</th>\n",
       "      <td>14</td>\n",
       "      <td>56</td>\n",
       "      <td>19</td>\n",
       "      <td>10</td>\n",
       "      <td>7</td>\n",
       "      <td>157</td>\n",
       "      <td>41</td>\n",
       "      <td>21</td>\n",
       "      <td>11</td>\n",
       "      <td>1</td>\n",
       "      <td>...</td>\n",
       "      <td>9</td>\n",
       "      <td>0</td>\n",
       "      <td>0</td>\n",
       "      <td>0.416667</td>\n",
       "      <td>0.750000</td>\n",
       "      <td>0.000000</td>\n",
       "      <td>0.0</td>\n",
       "      <td>1</td>\n",
       "      <td>-1</td>\n",
       "      <td>1</td>\n",
       "    </tr>\n",
       "  </tbody>\n",
       "</table>\n",
       "<p>5 rows × 63 columns</p>\n",
       "</div>"
      ],
      "text/plain": [
       "      Team1_team_score  Team2_team_score  Team1_first_downs  \\\n",
       "347                 13                26                 15   \n",
       "1890                24                31                 24   \n",
       "2149                24                47                 25   \n",
       "162                 20                27                 15   \n",
       "868                 14                56                 19   \n",
       "\n",
       "      Team1_passing_first_downs  Team1_rushing_first_downs  Team1_rushing_yds  \\\n",
       "347                           4                          8                 91   \n",
       "1890                         12                          9                158   \n",
       "2149                          6                         19                 96   \n",
       "162                          11                          2                310   \n",
       "868                          10                          7                157   \n",
       "\n",
       "      Team1_rushing_attempts  Team1_passing_attempts  \\\n",
       "347                       31                      28   \n",
       "1890                      48                      31   \n",
       "2149                      21                      65   \n",
       "162                       49                      21   \n",
       "868                       41                      21   \n",
       "\n",
       "      Team1_passing_completions  Team1_passing_interceptions    ...      \\\n",
       "347                          12                            1    ...       \n",
       "1890                         16                            1    ...       \n",
       "2149                         38                            1    ...       \n",
       "162                           5                            3    ...       \n",
       "868                          11                            1    ...       \n",
       "\n",
       "     Team2_third_down_suc  Team2_fourth_down_attempts  Team2_fourth_down_suc  \\\n",
       "347                     6                           1                      1   \n",
       "1890                    7                           1                      1   \n",
       "2149                    4                           2                      1   \n",
       "162                     3                           2                      1   \n",
       "868                     9                           0                      0   \n",
       "\n",
       "      Team1_third_down_conv_pct  Team2_third_down_conv_pct  \\\n",
       "347                    0.357143                   0.375000   \n",
       "1890                   0.333333                   0.538462   \n",
       "2149                   0.526316                   0.333333   \n",
       "162                    0.294118                   0.230769   \n",
       "868                    0.416667                   0.750000   \n",
       "\n",
       "      Team1_fourth_down_conv_pct  Team2_fourth_down_conv_pct  \\\n",
       "347                     0.000000                         1.0   \n",
       "1890                    0.666667                         1.0   \n",
       "2149                    0.000000                         0.5   \n",
       "162                     0.250000                         0.5   \n",
       "868                     0.000000                         0.0   \n",
       "\n",
       "      Team1_turnover_margin  Team2_turnover_margin  Team2_win  \n",
       "347                      -1                      1          1  \n",
       "1890                      1                     -1          1  \n",
       "2149                      1                     -1          1  \n",
       "162                       3                     -3          1  \n",
       "868                       1                     -1          1  \n",
       "\n",
       "[5 rows x 63 columns]"
      ]
     },
     "execution_count": 9,
     "metadata": {},
     "output_type": "execute_result"
    }
   ],
   "source": [
    "flip_df.head()"
   ]
  },
  {
   "cell_type": "code",
   "execution_count": 10,
   "metadata": {},
   "outputs": [],
   "source": [
    "orig_cols = flip_df.columns.tolist()"
   ]
  },
  {
   "cell_type": "code",
   "execution_count": 11,
   "metadata": {},
   "outputs": [],
   "source": [
    "target_yes = target_yes.drop(remove_index)"
   ]
  },
  {
   "cell_type": "code",
   "execution_count": 12,
   "metadata": {},
   "outputs": [],
   "source": [
    "### Rename and flip values\n",
    "t1_cols_rename = flip_df[flip_df.columns[flip_df.columns.str.contains('Team1')]].columns.tolist()\n",
    "sep_df = flip_df[t1_cols_rename]\n",
    "t1_cols_rename = [word.replace('1','2') for word in t1_cols_rename]\n",
    "sep_df.columns = t1_cols_rename\n",
    "\n",
    "t2_cols_rename = flip_df[flip_df.columns[flip_df.columns.str.contains('Team2')]].columns.tolist()\n",
    "sep_df2 = flip_df[t2_cols_rename]\n",
    "t2_cols_rename = [word.replace('2','1') for word in t2_cols_rename]\n",
    "sep_df2.columns = t2_cols_rename"
   ]
  },
  {
   "cell_type": "code",
   "execution_count": 13,
   "metadata": {},
   "outputs": [],
   "source": [
    "flip_df = pd.concat([sep_df,sep_df2],axis=1)\n",
    "flip_df = flip_df.drop('Team1_win',axis=1)\n",
    "flip_df['Team2_win'] = np.where(flip_df['Team2_team_score']>flip_df['Team1_team_score'],1,0)\n",
    "flip_df = flip_df[orig_cols]"
   ]
  },
  {
   "cell_type": "code",
   "execution_count": 14,
   "metadata": {},
   "outputs": [
    {
     "data": {
      "text/plain": [
       "(1179, 63)"
      ]
     },
     "execution_count": 14,
     "metadata": {},
     "output_type": "execute_result"
    }
   ],
   "source": [
    "target_yes.shape"
   ]
  },
  {
   "cell_type": "code",
   "execution_count": 15,
   "metadata": {},
   "outputs": [],
   "source": [
    "target_no = pd.concat([target_no,flip_df],axis=0)"
   ]
  },
  {
   "cell_type": "code",
   "execution_count": 16,
   "metadata": {},
   "outputs": [],
   "source": [
    "clean_ind_games2 = pd.concat([target_yes,target_no],axis=0).sample(frac=1).reset_index(drop=True)"
   ]
  },
  {
   "cell_type": "code",
   "execution_count": 17,
   "metadata": {},
   "outputs": [],
   "source": [
    "clean_ind_games2.to_csv('data/final_data/clean_shuffled_games.csv',index=False)"
   ]
  },
  {
   "cell_type": "markdown",
   "metadata": {},
   "source": [
    "### Create Scale Model "
   ]
  },
  {
   "cell_type": "code",
   "execution_count": 18,
   "metadata": {},
   "outputs": [
    {
     "name": "stderr",
     "output_type": "stream",
     "text": [
      "/anaconda3/lib/python3.6/site-packages/ipykernel_launcher.py:1: FutureWarning: convert_objects is deprecated.  To re-infer data dtypes for object columns, use DataFrame.infer_objects()\n",
      "For all other conversions use the data-type specific converters pd.to_datetime, pd.to_timedelta and pd.to_numeric.\n",
      "  \"\"\"Entry point for launching an IPython kernel.\n"
     ]
    }
   ],
   "source": [
    "scale_df = clean_ind_games2.drop(['Team2_win','Team1_team_score','Team2_team_score'],axis=1).convert_objects(convert_numeric=True)\n",
    "scale_df = scale_df.fillna(0)"
   ]
  },
  {
   "cell_type": "code",
   "execution_count": 19,
   "metadata": {},
   "outputs": [],
   "source": [
    "from sklearn.preprocessing import StandardScaler\n",
    "scaler = StandardScaler()\n",
    "scaled_data = scaler.fit_transform(scale_df)"
   ]
  },
  {
   "cell_type": "code",
   "execution_count": 20,
   "metadata": {},
   "outputs": [
    {
     "data": {
      "text/plain": [
       "['models/scaler.sav']"
      ]
     },
     "execution_count": 20,
     "metadata": {},
     "output_type": "execute_result"
    }
   ],
   "source": [
    "from sklearn.externals import joblib \n",
    "scaler_filename = \"models/scaler.sav\"\n",
    "joblib.dump(scaler, scaler_filename) "
   ]
  },
  {
   "cell_type": "markdown",
   "metadata": {},
   "source": [
    "### Train/Test"
   ]
  },
  {
   "cell_type": "code",
   "execution_count": 21,
   "metadata": {},
   "outputs": [],
   "source": [
    "from sklearn.model_selection import train_test_split"
   ]
  },
  {
   "cell_type": "code",
   "execution_count": 22,
   "metadata": {},
   "outputs": [
    {
     "name": "stderr",
     "output_type": "stream",
     "text": [
      "/anaconda3/lib/python3.6/site-packages/ipykernel_launcher.py:1: FutureWarning: convert_objects is deprecated.  To re-infer data dtypes for object columns, use DataFrame.infer_objects()\n",
      "For all other conversions use the data-type specific converters pd.to_datetime, pd.to_timedelta and pd.to_numeric.\n",
      "  \"\"\"Entry point for launching an IPython kernel.\n"
     ]
    }
   ],
   "source": [
    "clean_ind_games2 = clean_ind_games2.drop(['Team1_team_score','Team2_team_score'],axis=1).convert_objects(convert_numeric=True)\n",
    "clean_ind_games2 = clean_ind_games2.fillna(0)"
   ]
  },
  {
   "cell_type": "code",
   "execution_count": 23,
   "metadata": {},
   "outputs": [],
   "source": [
    "trainingSet, testSet = train_test_split(clean_ind_games2, test_size=0.3,stratify=None)"
   ]
  },
  {
   "cell_type": "code",
   "execution_count": 24,
   "metadata": {},
   "outputs": [],
   "source": [
    "trainingSet.to_csv(\"data/final_data/clean_train.csv\",index=False)\n",
    "testSet.to_csv(\"data/final_data/clean_test.csv\",index=False)"
   ]
  },
  {
   "cell_type": "markdown",
   "metadata": {},
   "source": [
    "### Prepare Data to search through"
   ]
  },
  {
   "cell_type": "code",
   "execution_count": 25,
   "metadata": {},
   "outputs": [],
   "source": [
    "search_df = ind_games.drop(['Team1_team_id','Team2_team_id','Team1_team_score','Team2_team_score',\n",
    "                           'Team2_win'],axis=1)"
   ]
  },
  {
   "cell_type": "code",
   "execution_count": 33,
   "metadata": {},
   "outputs": [
    {
     "data": {
      "text/plain": [
       "(2358, 63)"
      ]
     },
     "execution_count": 33,
     "metadata": {},
     "output_type": "execute_result"
    }
   ],
   "source": [
    "search_df.shape"
   ]
  },
  {
   "cell_type": "code",
   "execution_count": 26,
   "metadata": {},
   "outputs": [],
   "source": [
    "game_ids = search_df['game_id']"
   ]
  },
  {
   "cell_type": "code",
   "execution_count": 27,
   "metadata": {},
   "outputs": [],
   "source": [
    "team1_df = search_df[search_df.columns[search_df.columns.str.contains('Team1')].tolist()]\n",
    "team2_df = search_df[search_df.columns[search_df.columns.str.contains('Team2')].tolist()]"
   ]
  },
  {
   "cell_type": "code",
   "execution_count": 28,
   "metadata": {},
   "outputs": [],
   "source": [
    "t1_cols_rename = team2_df.columns\n",
    "t1_cols_rename = [word.replace('2','1') for word in t1_cols_rename]\n",
    "team2_df.columns = t1_cols_rename"
   ]
  },
  {
   "cell_type": "code",
   "execution_count": 29,
   "metadata": {},
   "outputs": [],
   "source": [
    "search_df_fin = pd.concat([pd.concat([game_ids,team1_df],axis=1),pd.concat([game_ids,team2_df],axis=1)],axis=0)"
   ]
  },
  {
   "cell_type": "code",
   "execution_count": 34,
   "metadata": {},
   "outputs": [
    {
     "data": {
      "text/plain": [
       "(4716, 32)"
      ]
     },
     "execution_count": 34,
     "metadata": {},
     "output_type": "execute_result"
    }
   ],
   "source": [
    "search_df_fin.shape"
   ]
  },
  {
   "cell_type": "code",
   "execution_count": 30,
   "metadata": {},
   "outputs": [],
   "source": [
    "search_df_fin.to_csv('data/final_data/team_games_data.csv',index=False)"
   ]
  },
  {
   "cell_type": "code",
   "execution_count": null,
   "metadata": {},
   "outputs": [],
   "source": []
  },
  {
   "cell_type": "code",
   "execution_count": null,
   "metadata": {},
   "outputs": [],
   "source": []
  }
 ],
 "metadata": {
  "kernelspec": {
   "display_name": "Python 3",
   "language": "python",
   "name": "python3"
  },
  "language_info": {
   "codemirror_mode": {
    "name": "ipython",
    "version": 3
   },
   "file_extension": ".py",
   "mimetype": "text/x-python",
   "name": "python",
   "nbconvert_exporter": "python",
   "pygments_lexer": "ipython3",
   "version": "3.6.5"
  }
 },
 "nbformat": 4,
 "nbformat_minor": 2
}
